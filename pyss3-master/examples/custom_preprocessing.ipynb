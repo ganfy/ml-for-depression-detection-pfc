{
 "cells": [
  {
   "cell_type": "markdown",
   "metadata": {},
   "source": [
    "# Working with custom preprocessing methods\n",
    "<br>\n",
    "<div style=\"text-align:right\"><i>To open and run this notebook <b>online</b>, click here: <a href=\"https://mybinder.org/v2/gh/sergioburdisso/pyss3/master?filepath=examples/custom_preprocessing.ipynb\" target=\"_blank\"><img src=\"https://mybinder.org/badge_logo.svg\" style=\"display: inline\"></a></i></div>\n",
    "\n",
    "In this notebook, we will see an example showing how we can define and use our own custom preprocessing methods in PySS3 and also how we can tell the Live Test Tool to use them as well.\n",
    "\n",
    "Let's begin by importing the needed modules:\n",
    "\n",
    "---"
   ]
  },
  {
   "cell_type": "code",
   "execution_count": null,
   "metadata": {},
   "outputs": [],
   "source": [
    "%matplotlib inline\n",
    "import re\n",
    "\n",
    "from pyss3 import SS3\n",
    "from pyss3.util import Dataset, Evaluation, span\n",
    "from pyss3.server import Live_Test\n",
    "\n",
    "from sklearn.metrics import accuracy_score\n",
    "from nltk.stem import SnowballStemmer"
   ]
  },
  {
   "cell_type": "markdown",
   "metadata": {},
   "source": [
    "To keep things simple, the preprocessing process will consists of applying just a simple stemming on the documents using the Snowball Stemmer. So, we will define a simple function, called ``my_preprocessing``, to carry out that task for us."
   ]
  },
  {
   "cell_type": "code",
   "execution_count": null,
   "metadata": {},
   "outputs": [],
   "source": [
    "stemmer = SnowballStemmer('english')\n",
    "\n",
    "def stem(match):\n",
    "    return stemmer.stem(match.group(0))\n",
    "\n",
    "def my_preprocessing(text):\n",
    "    # replace each word (\\w+) with its stemmed version\n",
    "    return re.sub(r\"\\w+\", stem, text)"
   ]
  },
  {
   "cell_type": "markdown",
   "metadata": {},
   "source": [
    "We will use the dataset we used for [Sentiment Analysis on Movie Reviews tutorial](https://pyss3.readthedocs.io/en/latest/tutorials/movie-review-notebook.html). Let's load the training and test sets."
   ]
  },
  {
   "cell_type": "code",
   "execution_count": null,
   "metadata": {},
   "outputs": [],
   "source": [
    "x_train, y_train = Dataset.load_from_files(\"datasets/movie_review/train\")\n",
    "x_test, y_test = Dataset.load_from_files(\"datasets/movie_review/test\")"
   ]
  },
  {
   "cell_type": "markdown",
   "metadata": {},
   "source": [
    "Now that the dataset has been loaded, we will use our ``my_preprocessing`` function to preprocess all the training and test documents like so."
   ]
  },
  {
   "cell_type": "code",
   "execution_count": null,
   "metadata": {},
   "outputs": [],
   "source": [
    "# Note: A better option would be to preprocess all the documents\n",
    "# only once and then stored them to disk. Then, later we could\n",
    "# load our new preprocessed version of the dataset. But we're keeping\n",
    "# things simple :)\n",
    "x_train_prep = [my_preprocessing(doc) for doc in x_train]\n",
    "x_test_prep = [my_preprocessing(doc) for doc in x_test]"
   ]
  },
  {
   "cell_type": "markdown",
   "metadata": {},
   "source": [
    "Let's train our model using the preprocessed training documents we have stored in ``x_train_prep``. In addition, we need to use the ``prep``argument to tell our classifier to disable the default preprocessing process (``prep=False``)."
   ]
  },
  {
   "cell_type": "code",
   "execution_count": null,
   "metadata": {},
   "outputs": [],
   "source": [
    "# In the \"Hyperparameter Optimization\" section at the bottom,\n",
    "# it is shown how we obtained these hyperparemter values: s=.44, l=.48, p=.5\n",
    "clf = SS3(s=.44, l=.48, p=.5)\n",
    "\n",
    "# Let the training begin!\n",
    "clf.train(x_train_prep, y_train, n_grams=3, prep=False)"
   ]
  },
  {
   "cell_type": "markdown",
   "metadata": {},
   "source": [
    "Let's check if our classifier performs well at classifying the test documents."
   ]
  },
  {
   "cell_type": "code",
   "execution_count": null,
   "metadata": {},
   "outputs": [],
   "source": [
    "# Here we're also disabling default preprocessing\n",
    "# since ``x_test_prep`` is already preprocessed\n",
    "# by our custom function\n",
    "y_pred = clf.predict(x_test_prep, prep=False)\n",
    "\n",
    "accuracy = accuracy_score(y_pred, y_test)\n",
    "\n",
    "print(\"Accuracy was:\", accuracy)"
   ]
  },
  {
   "cell_type": "markdown",
   "metadata": {},
   "source": [
    "Not bad. Note: better performance perhaps could be obtained by performing hyperparameter optimization with our new preprocessed dataset, since the hyperparameter values we've used (``s=0.44, l=0.48, p=0.5``) were selected using the default preprocessing (but we're keeping this notebook as simple as possible).\n",
    "\n",
    "OK, suppose we now want to visualize what our classifier is learning and how he's carrying out the classification process, we could just use the live test as usual but this time using our preprocessed test documents (``x_test_prep``) and again disabling the default preprocessing process (``prep=False``), as follows:"
   ]
  },
  {
   "cell_type": "code",
   "execution_count": null,
   "metadata": {},
   "outputs": [],
   "source": [
    "# note we are using the preprocessed documents here (`x_test_prep`)\n",
    "Live_Test.run(clf, x_test_prep, y_test, prep=False)\n",
    "\n",
    "# Press Esc. + the I key twice to stop it\n",
    "# * Remember that the Live Test will only work if you're running\n",
    "#   this notebook, locally, on your computer :("
   ]
  },
  {
   "cell_type": "markdown",
   "metadata": {},
   "source": [
    "The visualization isn't bad, however, documents are displayed as they are in ``x_test_prep``, that is, they are displayed preprocessed (stemmed), as shown below:\n",
    "\n",
    "![](imgs/live_test_stem_raw.png)"
   ]
  },
  {
   "cell_type": "markdown",
   "metadata": {},
   "source": [
    "It would be very nice to have the Live Test to display the documents as they originally were, that is, to display the true raw documents. This could be accomplish by running the Live Test using the original documents stored in ``x_test`` and using the ``prep_func`` argument to tell what function we want to be applied when classifying, in our case it would be ``prep_func=my_preprocessing``, as follows:"
   ]
  },
  {
   "cell_type": "code",
   "execution_count": null,
   "metadata": {},
   "outputs": [],
   "source": [
    "Live_Test.run(clf, x_test, y_test, prep_func=my_preprocessing)"
   ]
  },
  {
   "cell_type": "markdown",
   "metadata": {},
   "source": [
    "Now the documents are displayed in their original format. We then can interactively select individual words (or n-grams) and see, at the bottom, its preprocessed version (that is, the actual token that was used by SS3 to represent the word, or n-gram). For instance, as shown below, when the user select the 3-gram \"wasting your time\", at the bottom is displayed \"$wast\\rightarrow your\\rightarrow time$\" indicating the true value used by the classifier (arrows indicate \"transitions\", i.e., \"going from one word to the other\"). The same happens, for instance, with the \"watching\" (and \"behaving\") word, indicating that it was converted to \"$watch$\" (and \"$behav$\") by our custom preprocessing process (``my_preprocessing``).\n",
    "\n",
    "![](imgs/live_test_stem.gif)\n"
   ]
  },
  {
   "cell_type": "markdown",
   "metadata": {},
   "source": [
    "... and... that's it for now, well done!  :D"
   ]
  },
  {
   "cell_type": "markdown",
   "metadata": {},
   "source": [
    "---\n",
    "## Hyperparameter Optimization"
   ]
  },
  {
   "cell_type": "code",
   "execution_count": null,
   "metadata": {},
   "outputs": [],
   "source": [
    "clf = SS3(name=\"movie-reviews\")\n",
    "\n",
    "# to speed up the process, we won't use 3-gram but single words\n",
    "# (i.e. we won't use the n_grams=3 argument)\n",
    "clf.train(x_train_prep, y_train, prep=False)"
   ]
  },
  {
   "cell_type": "code",
   "execution_count": null,
   "metadata": {},
   "outputs": [],
   "source": [
    "best_s, best_l, best_p, best_a = Evaluation.grid_search(\n",
    "    clf, x_test_prep, y_test,\n",
    "    s=span(0.2, 0.8, 6),\n",
    "    l=span(0.1, 2, 6),\n",
    "    p=span(0.5, 2, 6),\n",
    "    a=[0, .1, .2],\n",
    "    prep=False,  # <- do not forget to disable default preprocessing\n",
    "    tag=\"grid search (test)\"\n",
    ")\n",
    "\n",
    "print(\"The hyperparameter values that obtained the best Accuracy are:\")\n",
    "print(\"Smoothness(s):\", best_s)\n",
    "print(\"Significance(l):\", best_l)\n",
    "print(\"Sanction(p):\", best_p)\n",
    "print(\"Alpha(a):\", best_a)\n",
    "\n",
    "Evaluation.plot()"
   ]
  },
  {
   "cell_type": "code",
   "execution_count": null,
   "metadata": {},
   "outputs": [],
   "source": [
    "clf.set_hyperparameters(0.44, 0.48, 0.5, 0.0)\n",
    "y_pred = clf.predict(x_test_prep, prep=False)\n",
    "\n",
    "accuracy = accuracy_score(y_pred, y_test)\n",
    "print(\"Accuracy was:\", accuracy)"
   ]
  },
  {
   "cell_type": "markdown",
   "metadata": {},
   "source": [
    "The best accuracy with the obtained hyperparameters is 0.828. Now let's train a 3-grams version using the same hyperparameters:"
   ]
  },
  {
   "cell_type": "code",
   "execution_count": null,
   "metadata": {},
   "outputs": [],
   "source": [
    "clf = SS3(0.44, 0.48, 0.5, 0.0, name=\"movie-reviews\")\n",
    "\n",
    "clf.train(x_train_prep, y_train, n_grams=3, prep=False)"
   ]
  },
  {
   "cell_type": "code",
   "execution_count": null,
   "metadata": {},
   "outputs": [],
   "source": [
    "y_pred = clf.predict(x_test_prep, prep=False)\n",
    "\n",
    "accuracy = accuracy_score(y_pred, y_test)\n",
    "print(\"Accuracy was:\", accuracy)"
   ]
  },
  {
   "cell_type": "markdown",
   "metadata": {},
   "source": [
    "The accuracy improved! it went from 0.828 to 0.853 :)"
   ]
  }
 ],
 "metadata": {
  "kernelspec": {
   "display_name": "Python3 (p3+pyss3)",
   "language": "python",
   "name": "p3.pyss3"
  },
  "language_info": {
   "codemirror_mode": {
    "name": "ipython",
    "version": 3
   },
   "file_extension": ".py",
   "mimetype": "text/x-python",
   "name": "python",
   "nbconvert_exporter": "python",
   "pygments_lexer": "ipython3",
   "version": "3.7.5"
  }
 },
 "nbformat": 4,
 "nbformat_minor": 2
}
